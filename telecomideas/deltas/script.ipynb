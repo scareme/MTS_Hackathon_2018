{
 "cells": [
  {
   "cell_type": "code",
   "execution_count": 1,
   "metadata": {},
   "outputs": [],
   "source": [
    "import pandas as pd\n",
    "import numpy as np"
   ]
  },
  {
   "cell_type": "code",
   "execution_count": 2,
   "metadata": {},
   "outputs": [],
   "source": [
    "df = pd.read_csv('prototype_ready_rus.csv', encoding='cp1251', sep=';')"
   ]
  },
  {
   "cell_type": "code",
   "execution_count": 3,
   "metadata": {},
   "outputs": [],
   "source": [
    "df['Строение'] = df['Строение'].astype('int')"
   ]
  },
  {
   "cell_type": "code",
   "execution_count": 4,
   "metadata": {},
   "outputs": [],
   "source": [
    "df['Адрес'] = [street + ', ' + str(hn) + ', ' + str(bn) + ', ' + str(lit) \n",
    "                if bn !=0 \n",
    "                else street + ', ' + str(hn) + ', ' + str(lit) \n",
    "                for street, hn, bn, lit in zip(df['Улица'], df['Номер улицы'], df['Строение'], df['Литера'])]"
   ]
  },
  {
   "cell_type": "code",
   "execution_count": 5,
   "metadata": {},
   "outputs": [
    {
     "data": {
      "text/plain": [
       "2020    4682\n",
       "2021     321\n",
       "2019     257\n",
       "2022      13\n",
       "Name: Ожидаемый год ремонта, dtype: int64"
      ]
     },
     "execution_count": 5,
     "metadata": {},
     "output_type": "execute_result"
    }
   ],
   "source": [
    "df['Ожидаемый год ремонта'].value_counts()"
   ]
  },
  {
   "cell_type": "code",
   "execution_count": 6,
   "metadata": {},
   "outputs": [],
   "source": [
    "# не включаем 18 год"
   ]
  },
  {
   "cell_type": "code",
   "execution_count": 7,
   "metadata": {},
   "outputs": [
    {
     "name": "stdout",
     "output_type": "stream",
     "text": [
      "Анисимова ул., 5, 7, А\n",
      "-1\n"
     ]
    }
   ],
   "source": [
    "years = {}\n",
    "\n",
    "for key in np.random.choice(df['Адрес'], 100):\n",
    "    print(key)\n",
    "    value = 0\n",
    "    try:\n",
    "        value = input()\n",
    "        value = int(value)\n",
    "    except:\n",
    "        value = 0\n",
    "    if value == -1:\n",
    "        break\n",
    "    if value != 0:\n",
    "        years[key] = value"
   ]
  },
  {
   "cell_type": "code",
   "execution_count": 8,
   "metadata": {},
   "outputs": [],
   "source": [
    "with open('file.txt', 'a', encoding='utf-8') as file:\n",
    "    file.write(str(years))"
   ]
  },
  {
   "cell_type": "code",
   "execution_count": 9,
   "metadata": {},
   "outputs": [
    {
     "data": {
      "text/plain": [
       "{}"
      ]
     },
     "execution_count": 9,
     "metadata": {},
     "output_type": "execute_result"
    }
   ],
   "source": [
    "years"
   ]
  }
 ],
 "metadata": {
  "kernelspec": {
   "display_name": "Python 3",
   "language": "python",
   "name": "python3"
  },
  "language_info": {
   "codemirror_mode": {
    "name": "ipython",
    "version": 3
   },
   "file_extension": ".py",
   "mimetype": "text/x-python",
   "name": "python",
   "nbconvert_exporter": "python",
   "pygments_lexer": "ipython3",
   "version": "3.6.4"
  }
 },
 "nbformat": 4,
 "nbformat_minor": 2
}
